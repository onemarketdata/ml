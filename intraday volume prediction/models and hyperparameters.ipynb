{
 "cells": [
  {
   "cell_type": "markdown",
   "id": "d01b1397-cf41-4763-93db-a1af207aafc8",
   "metadata": {},
   "source": [
    "# Intraday Volume Prediction: tuning hyperparameters and comparing models\n",
    "\n",
    "Problem: predict trading volume in the next 10 minutes for Nasdaq E-mini futures.\n",
    "\n",
    "Approach: Use Market Data Research Environment (MDRE) to access relevant market data and run experiments.\n",
    "\n",
    "In this notebook, we show how to create a model, tune hyperparameters, and choose among several models.\n",
    "\n",
    "More details about data preparation appear in a Medium [post](https://medium.com/machine-learning-with-market-data/trading-volume-prediction-on-the-example-of-nasdaq-index-futures-6033de7ba716?source=collection_home---6------0-----------------------)."
   ]
  },
  {
   "cell_type": "code",
   "execution_count": 22,
   "id": "eef1e8bf-1d45-4c65-9734-06d64d4c3dbe",
   "metadata": {
    "tags": []
   },
   "outputs": [],
   "source": [
    "%%capture\n",
    "!pip install -U onetick-ds-framework"
   ]
  },
  {
   "cell_type": "code",
   "execution_count": 17,
   "id": "d95ae701-43d6-4396-a622-1ad8457622d7",
   "metadata": {},
   "outputs": [
    {
     "data": {
      "text/plain": [
       "'0.0.72'"
      ]
     },
     "execution_count": 17,
     "metadata": {},
     "output_type": "execute_result"
    }
   ],
   "source": [
    "import os\n",
    "import yaml\n",
    "import pandas as pd\n",
    "\n",
    "from dsframework.utils import build_experiment\n",
    "import dsframework\n",
    "dsframework.__version__"
   ]
  },
  {
   "cell_type": "markdown",
   "id": "ff731604-a1a0-4ef2-8cc3-8a6cfff35eb5",
   "metadata": {},
   "source": [
    "# XGBoost"
   ]
  },
  {
   "cell_type": "markdown",
   "id": "4579e323-91a1-4f74-881c-6cf1e2271050",
   "metadata": {},
   "source": [
    "Load the experiment described in the config [file](./volume_prediction_config.yml), tune hyperparameters using grid search over the combinations of parameter values specified in the config for the selected model. In this case we use XGBoostRegressor\n",
    "\n",
    "            init_params:\n",
    "                learning_rate: [.01, .03, .1]\n",
    "                n_estimators: [100, 500, 1000]\n",
    "                max_depth: [2, 3, 4]\n",
    "                min_child_weight: [2, 4]\n",
    "                max_delta_step: [0]\n",
    "                subsample: [0.9]\n",
    "                nthread: [2]"
   ]
  },
  {
   "cell_type": "code",
   "execution_count": 2,
   "id": "16f657f3-84bb-44ac-b366-7787babcdd0e",
   "metadata": {
    "collapsed": true,
    "jupyter": {
     "outputs_hidden": true
    },
    "tags": []
   },
   "outputs": [
    {
     "name": "stderr",
     "output_type": "stream",
     "text": [
      "`ray.get_gpu_ids()` will always return the empty list when called from the driver. This is because Ray does not manage GPU allocations to the driver process.\n",
      "Log channel is reconnecting. Logs produced while the connection was down can be found on the head node of the cluster in `ray_client_server_[port].out`\n",
      "2022-10-03 09:50:01,588\tWARNING dataclient.py:363 -- Encountered connection issues in the data channel. Attempting to reconnect.\n",
      "The `start_trial` operation took 12.847 s, which may be a performance bottleneck.\n",
      "The `start_trial` operation took 7.420 s, which may be a performance bottleneck.\n",
      "The `start_trial` operation took 3.069 s, which may be a performance bottleneck.\n",
      "The `start_trial` operation took 14.499 s, which may be a performance bottleneck.\n",
      "The `start_trial` operation took 6.126 s, which may be a performance bottleneck.\n",
      "The `start_trial` operation took 2.667 s, which may be a performance bottleneck.\n",
      "The `start_trial` operation took 15.972 s, which may be a performance bottleneck.\n",
      "The `start_trial` operation took 6.340 s, which may be a performance bottleneck.\n",
      "The `start_trial` operation took 2.795 s, which may be a performance bottleneck.\n",
      "The `start_trial` operation took 13.344 s, which may be a performance bottleneck.\n",
      "The `start_trial` operation took 7.726 s, which may be a performance bottleneck.\n",
      "The `start_trial` operation took 3.054 s, which may be a performance bottleneck.\n",
      "The `start_trial` operation took 14.684 s, which may be a performance bottleneck.\n",
      "The `start_trial` operation took 6.441 s, which may be a performance bottleneck.\n",
      "The `start_trial` operation took 2.426 s, which may be a performance bottleneck.\n",
      "The `start_trial` operation took 16.150 s, which may be a performance bottleneck.\n",
      "The `start_trial` operation took 6.504 s, which may be a performance bottleneck.\n",
      "The `start_trial` operation took 2.704 s, which may be a performance bottleneck.\n",
      "The `start_trial` operation took 20.273 s, which may be a performance bottleneck.\n",
      "The `start_trial` operation took 7.547 s, which may be a performance bottleneck.\n",
      "The `start_trial` operation took 3.107 s, which may be a performance bottleneck.\n",
      "The `start_trial` operation took 17.771 s, which may be a performance bottleneck.\n",
      "The `start_trial` operation took 6.236 s, which may be a performance bottleneck.\n",
      "The `start_trial` operation took 2.684 s, which may be a performance bottleneck.\n",
      "The `start_trial` operation took 17.757 s, which may be a performance bottleneck.\n",
      "The `start_trial` operation took 6.228 s, which may be a performance bottleneck.\n",
      "The `start_trial` operation took 2.855 s, which may be a performance bottleneck.\n",
      "The `start_trial` operation took 20.180 s, which may be a performance bottleneck.\n",
      "The `start_trial` operation took 7.493 s, which may be a performance bottleneck.\n",
      "The `start_trial` operation took 3.144 s, which may be a performance bottleneck.\n",
      "The `start_trial` operation took 16.809 s, which may be a performance bottleneck.\n",
      "The `start_trial` operation took 6.043 s, which may be a performance bottleneck.\n",
      "The `start_trial` operation took 2.423 s, which may be a performance bottleneck.\n",
      "The `start_trial` operation took 17.265 s, which may be a performance bottleneck.\n",
      "The `start_trial` operation took 6.578 s, which may be a performance bottleneck.\n",
      "The `start_trial` operation took 2.669 s, which may be a performance bottleneck.\n"
     ]
    },
    {
     "name": "stdout",
     "output_type": "stream",
     "text": [
      "CPU times: user 2.83 s, sys: 267 ms, total: 3.09 s\n",
      "Wall time: 6min 23s\n"
     ]
    },
    {
     "data": {
      "text/plain": [
       "<dsframework.impl.models.regressor_models.XGBRegressor at 0x7f2924cee1c0>"
      ]
     },
     "execution_count": 2,
     "metadata": {},
     "output_type": "execute_result"
    }
   ],
   "source": [
    "%%time\n",
    "config_path = os.path.join('./volume_prediction_config.yml')\n",
    "\n",
    "config = yaml.load(open(config_path), Loader=yaml.Loader)\n",
    "config['training']['use'] = 'XGBRegressor'\n",
    "exp = build_experiment(config)\n",
    "\n",
    "exp.get_data()\n",
    "exp.prepare_data()\n",
    "exp.init_fit(local_mode=True)"
   ]
  },
  {
   "cell_type": "markdown",
   "id": "e50acedb-4aa4-483c-9132-8cc6e923b1b9",
   "metadata": {},
   "source": [
    "The best hyperparameters are:"
   ]
  },
  {
   "cell_type": "code",
   "execution_count": 4,
   "id": "adec5e46-7945-46a5-8d6c-ed6cea4a20cd",
   "metadata": {},
   "outputs": [
    {
     "data": {
      "text/plain": [
       "{'learning_rate': 0.03,\n",
       " 'n_estimators': 500,\n",
       " 'max_depth': 3,\n",
       " 'min_child_weight': 2,\n",
       " 'max_delta_step': 0,\n",
       " 'subsample': 0.9,\n",
       " 'nthread': 2}"
      ]
     },
     "execution_count": 4,
     "metadata": {},
     "output_type": "execute_result"
    }
   ],
   "source": [
    "exp.current_model_params"
   ]
  },
  {
   "cell_type": "markdown",
   "id": "45f5df57-da5c-48af-bb50-9afa4bde8137",
   "metadata": {},
   "source": [
    "This set of hyperparameters was selected based on the `mean_test_score` computed as the average of the models performance during WalkForwardValidation. A relevant section of the config file:\n",
    "\n",
    "    search_cv:\n",
    "        val_type: 'WalkForward' # 'Simple','Cross','WalkForward'\n",
    "        folds: 5\n",
    "        eval_metric: 'MAE'\n",
    "        early_stopping: True\n",
    "        #Search params:\n",
    "        tuning_cv: True\n",
    "        search_optimization: 'grid' # 'grid', 'random', 'bayesian', 'bohb', 'hyperopt'\n",
    "        n_trials: 2 # is used for 'random', 'bayesian', 'bohb'\n"
   ]
  },
  {
   "cell_type": "code",
   "execution_count": 13,
   "id": "17d4b61f-bd21-43e7-a61a-f8b371e2ce3b",
   "metadata": {},
   "outputs": [
    {
     "data": {
      "text/html": [
       "<div>\n",
       "<style scoped>\n",
       "    .dataframe tbody tr th:only-of-type {\n",
       "        vertical-align: middle;\n",
       "    }\n",
       "\n",
       "    .dataframe tbody tr th {\n",
       "        vertical-align: top;\n",
       "    }\n",
       "\n",
       "    .dataframe thead th {\n",
       "        text-align: right;\n",
       "    }\n",
       "</style>\n",
       "<table border=\"1\" class=\"dataframe\">\n",
       "  <thead>\n",
       "    <tr style=\"text-align: right;\">\n",
       "      <th></th>\n",
       "      <th>index</th>\n",
       "      <th>params</th>\n",
       "      <th>split0_test_score</th>\n",
       "      <th>split1_test_score</th>\n",
       "      <th>split2_test_score</th>\n",
       "      <th>split3_test_score</th>\n",
       "      <th>split4_test_score</th>\n",
       "      <th>mean_test_score</th>\n",
       "      <th>std_test_score</th>\n",
       "      <th>rank_test_score</th>\n",
       "      <th>time_total_s</th>\n",
       "      <th>training_iteration</th>\n",
       "      <th>param_learning_rate</th>\n",
       "      <th>param_n_estimators</th>\n",
       "      <th>param_max_depth</th>\n",
       "      <th>param_min_child_weight</th>\n",
       "      <th>param_max_delta_step</th>\n",
       "      <th>param_subsample</th>\n",
       "      <th>param_nthread</th>\n",
       "    </tr>\n",
       "  </thead>\n",
       "  <tbody>\n",
       "    <tr>\n",
       "      <th>0</th>\n",
       "      <td>22</td>\n",
       "      <td>{'learning_rate': 0.03, 'n_estimators': 500, 'max_depth': 3, 'min_child_weight': 2, 'max_delta_step': 0, 'subsample': 0.9, 'nthread': 2}</td>\n",
       "      <td>-1927.179122</td>\n",
       "      <td>-1731.081079</td>\n",
       "      <td>-2301.349205</td>\n",
       "      <td>-2020.802291</td>\n",
       "      <td>-2402.917010</td>\n",
       "      <td>-2076.665741</td>\n",
       "      <td>245.690164</td>\n",
       "      <td>1</td>\n",
       "      <td>6.084126</td>\n",
       "      <td>1</td>\n",
       "      <td>0.03</td>\n",
       "      <td>500</td>\n",
       "      <td>3</td>\n",
       "      <td>2</td>\n",
       "      <td>0</td>\n",
       "      <td>0.9</td>\n",
       "      <td>2</td>\n",
       "    </tr>\n",
       "    <tr>\n",
       "      <th>1</th>\n",
       "      <td>40</td>\n",
       "      <td>{'learning_rate': 0.03, 'n_estimators': 1000, 'max_depth': 3, 'min_child_weight': 2, 'max_delta_step': 0, 'subsample': 0.9, 'nthread': 2}</td>\n",
       "      <td>-1927.179122</td>\n",
       "      <td>-1731.081079</td>\n",
       "      <td>-2301.349205</td>\n",
       "      <td>-2020.802291</td>\n",
       "      <td>-2402.917010</td>\n",
       "      <td>-2076.665741</td>\n",
       "      <td>245.690164</td>\n",
       "      <td>1</td>\n",
       "      <td>6.196923</td>\n",
       "      <td>1</td>\n",
       "      <td>0.03</td>\n",
       "      <td>1000</td>\n",
       "      <td>3</td>\n",
       "      <td>2</td>\n",
       "      <td>0</td>\n",
       "      <td>0.9</td>\n",
       "      <td>2</td>\n",
       "    </tr>\n",
       "    <tr>\n",
       "      <th>2</th>\n",
       "      <td>31</td>\n",
       "      <td>{'learning_rate': 0.03, 'n_estimators': 500, 'max_depth': 3, 'min_child_weight': 4, 'max_delta_step': 0, 'subsample': 0.9, 'nthread': 2}</td>\n",
       "      <td>-1925.679314</td>\n",
       "      <td>-1734.779033</td>\n",
       "      <td>-2301.324955</td>\n",
       "      <td>-2020.315396</td>\n",
       "      <td>-2402.317327</td>\n",
       "      <td>-2076.883205</td>\n",
       "      <td>244.695429</td>\n",
       "      <td>3</td>\n",
       "      <td>6.381348</td>\n",
       "      <td>1</td>\n",
       "      <td>0.03</td>\n",
       "      <td>500</td>\n",
       "      <td>3</td>\n",
       "      <td>4</td>\n",
       "      <td>0</td>\n",
       "      <td>0.9</td>\n",
       "      <td>2</td>\n",
       "    </tr>\n",
       "    <tr>\n",
       "      <th>3</th>\n",
       "      <td>49</td>\n",
       "      <td>{'learning_rate': 0.03, 'n_estimators': 1000, 'max_depth': 3, 'min_child_weight': 4, 'max_delta_step': 0, 'subsample': 0.9, 'nthread': 2}</td>\n",
       "      <td>-1925.679314</td>\n",
       "      <td>-1734.779033</td>\n",
       "      <td>-2301.324955</td>\n",
       "      <td>-2020.315396</td>\n",
       "      <td>-2402.317327</td>\n",
       "      <td>-2076.883205</td>\n",
       "      <td>244.695429</td>\n",
       "      <td>3</td>\n",
       "      <td>5.997833</td>\n",
       "      <td>1</td>\n",
       "      <td>0.03</td>\n",
       "      <td>1000</td>\n",
       "      <td>3</td>\n",
       "      <td>4</td>\n",
       "      <td>0</td>\n",
       "      <td>0.9</td>\n",
       "      <td>2</td>\n",
       "    </tr>\n",
       "    <tr>\n",
       "      <th>4</th>\n",
       "      <td>39</td>\n",
       "      <td>{'learning_rate': 0.01, 'n_estimators': 1000, 'max_depth': 3, 'min_child_weight': 2, 'max_delta_step': 0, 'subsample': 0.9, 'nthread': 2}</td>\n",
       "      <td>-1922.950299</td>\n",
       "      <td>-1735.087423</td>\n",
       "      <td>-2301.679248</td>\n",
       "      <td>-2020.219870</td>\n",
       "      <td>-2407.894771</td>\n",
       "      <td>-2077.566322</td>\n",
       "      <td>246.507612</td>\n",
       "      <td>5</td>\n",
       "      <td>17.690060</td>\n",
       "      <td>1</td>\n",
       "      <td>0.01</td>\n",
       "      <td>1000</td>\n",
       "      <td>3</td>\n",
       "      <td>2</td>\n",
       "      <td>0</td>\n",
       "      <td>0.9</td>\n",
       "      <td>2</td>\n",
       "    </tr>\n",
       "  </tbody>\n",
       "</table>\n",
       "</div>"
      ],
      "text/plain": [
       "   index                                                                                                                                     params  split0_test_score  split1_test_score  split2_test_score  split3_test_score  split4_test_score  mean_test_score  std_test_score  rank_test_score  time_total_s  training_iteration param_learning_rate param_n_estimators param_max_depth param_min_child_weight param_max_delta_step param_subsample param_nthread\n",
       "0     22   {'learning_rate': 0.03, 'n_estimators': 500, 'max_depth': 3, 'min_child_weight': 2, 'max_delta_step': 0, 'subsample': 0.9, 'nthread': 2}       -1927.179122       -1731.081079       -2301.349205       -2020.802291       -2402.917010     -2076.665741      245.690164                1      6.084126                   1                0.03                500               3                      2                    0             0.9             2\n",
       "1     40  {'learning_rate': 0.03, 'n_estimators': 1000, 'max_depth': 3, 'min_child_weight': 2, 'max_delta_step': 0, 'subsample': 0.9, 'nthread': 2}       -1927.179122       -1731.081079       -2301.349205       -2020.802291       -2402.917010     -2076.665741      245.690164                1      6.196923                   1                0.03               1000               3                      2                    0             0.9             2\n",
       "2     31   {'learning_rate': 0.03, 'n_estimators': 500, 'max_depth': 3, 'min_child_weight': 4, 'max_delta_step': 0, 'subsample': 0.9, 'nthread': 2}       -1925.679314       -1734.779033       -2301.324955       -2020.315396       -2402.317327     -2076.883205      244.695429                3      6.381348                   1                0.03                500               3                      4                    0             0.9             2\n",
       "3     49  {'learning_rate': 0.03, 'n_estimators': 1000, 'max_depth': 3, 'min_child_weight': 4, 'max_delta_step': 0, 'subsample': 0.9, 'nthread': 2}       -1925.679314       -1734.779033       -2301.324955       -2020.315396       -2402.317327     -2076.883205      244.695429                3      5.997833                   1                0.03               1000               3                      4                    0             0.9             2\n",
       "4     39  {'learning_rate': 0.01, 'n_estimators': 1000, 'max_depth': 3, 'min_child_weight': 2, 'max_delta_step': 0, 'subsample': 0.9, 'nthread': 2}       -1922.950299       -1735.087423       -2301.679248       -2020.219870       -2407.894771     -2077.566322      246.507612                5     17.690060                   1                0.01               1000               3                      2                    0             0.9             2"
      ]
     },
     "execution_count": 13,
     "metadata": {},
     "output_type": "execute_result"
    }
   ],
   "source": [
    "params_comparison = pd.DataFrame(exp.cv_model.cv_results_)\n",
    "params_comparison.sort_values(by='rank_test_score').reset_index().head()"
   ]
  },
  {
   "cell_type": "markdown",
   "id": "c32145de-570f-4931-84e2-0d277a9c4d9a",
   "metadata": {},
   "source": [
    "The model with the best set of hyperparmeters identified above can now be used to compute predictions based on the test data defined in the config\n",
    "\n",
    "    splitters:\n",
    "        -\n",
    "            class: dsframework.impl.SplitXYTrainTest\n",
    "            use: True\n",
    "            columns_to_predict: ['VOLUME_fut']\n",
    "            shuffle: False\n",
    "            test_size: 0.1506\n",
    "            val_size: 0.15\n",
    "            \n",
    "The performance of the model can be examined on the test set."
   ]
  },
  {
   "cell_type": "code",
   "execution_count": 12,
   "id": "19715d08-2211-4873-8ae4-7a467d8a5a7b",
   "metadata": {},
   "outputs": [
    {
     "data": {
      "text/plain": [
       "{'VOLUME_fut_R2': 0.7510247238605942,\n",
       " 'VOLUME_fut_MAE': 2287.483682523331,\n",
       " 'VOLUME_fut_RMSE': 3399.3560457247017,\n",
       " 'VOLUME_fut_MAPE': 0.19789891907778864}"
      ]
     },
     "execution_count": 12,
     "metadata": {},
     "output_type": "execute_result"
    }
   ],
   "source": [
    "predictions = exp.predict(x=exp.x_test)\n",
    "metrics = exp.calc_metrics(y=exp.y_unprocessed.loc[exp.y_test.index],\n",
    "                           prediction=predictions)\n",
    "metrics"
   ]
  },
  {
   "cell_type": "markdown",
   "id": "2ec099d8-810a-4459-9596-b3306709b978",
   "metadata": {},
   "source": [
    "# R"
   ]
  },
  {
   "cell_type": "markdown",
   "id": "75568993-2b04-4ed0-95fa-c136179d24d5",
   "metadata": {},
   "source": [
    "Trying a different model with its own set of hyperparameters takes just a few lines:\n"
   ]
  },
  {
   "cell_type": "code",
   "execution_count": 19,
   "id": "a6f96055-f40b-4308-81bc-75d188f042fb",
   "metadata": {},
   "outputs": [],
   "source": [
    "import ray\n",
    "ray.shutdown()"
   ]
  },
  {
   "cell_type": "code",
   "execution_count": 20,
   "id": "e36266db-7fd1-4f6b-9da1-d704f10a82d7",
   "metadata": {},
   "outputs": [
    {
     "name": "stderr",
     "output_type": "stream",
     "text": [
      "2022-10-03 14:59:04,549\tINFO worker.py:862 -- Using address ray://172.16.1.89:10001 set in the environment variable RAY_ADDRESS\n",
      "2022-10-03 14:59:04,551\tINFO client_builder.py:224 -- Passing the following kwargs to ray.init() on the server: local_mode\n",
      "`ray.get_gpu_ids()` will always return the empty list when called from the driver. This is because Ray does not manage GPU allocations to the driver process.\n"
     ]
    }
   ],
   "source": [
    "# %%capture\n",
    "config_path = os.path.join('./volume_prediction_config.yml')\n",
    "\n",
    "config = yaml.load(open(config_path), Loader=yaml.Loader)\n",
    "config['training']['use'] = 'DecisionTreeRegressor'\n",
    "exp = build_experiment(config)\n",
    "\n",
    "exp.get_data()\n",
    "exp.prepare_data()\n",
    "exp.init_fit(local_mode=True)\n",
    "\n",
    "predictions = exp.predict(x=exp.x_test)\n",
    "metrics = exp.calc_metrics(y=exp.y_unprocessed.loc[exp.y_test.index],\n",
    "                           prediction=predictions)"
   ]
  },
  {
   "cell_type": "code",
   "execution_count": 21,
   "id": "670b0bd1-4010-42f0-b825-a512a81f46b9",
   "metadata": {},
   "outputs": [
    {
     "data": {
      "text/html": [
       "<div>\n",
       "<style scoped>\n",
       "    .dataframe tbody tr th:only-of-type {\n",
       "        vertical-align: middle;\n",
       "    }\n",
       "\n",
       "    .dataframe tbody tr th {\n",
       "        vertical-align: top;\n",
       "    }\n",
       "\n",
       "    .dataframe thead th {\n",
       "        text-align: right;\n",
       "    }\n",
       "</style>\n",
       "<table border=\"1\" class=\"dataframe\">\n",
       "  <thead>\n",
       "    <tr style=\"text-align: right;\">\n",
       "      <th></th>\n",
       "      <th>index</th>\n",
       "      <th>params</th>\n",
       "      <th>split0_test_score</th>\n",
       "      <th>split1_test_score</th>\n",
       "      <th>split2_test_score</th>\n",
       "      <th>split3_test_score</th>\n",
       "      <th>split4_test_score</th>\n",
       "      <th>mean_test_score</th>\n",
       "      <th>std_test_score</th>\n",
       "      <th>rank_test_score</th>\n",
       "      <th>time_total_s</th>\n",
       "      <th>training_iteration</th>\n",
       "      <th>param_max_depth</th>\n",
       "    </tr>\n",
       "  </thead>\n",
       "  <tbody>\n",
       "    <tr>\n",
       "      <th>0</th>\n",
       "      <td>3</td>\n",
       "      <td>{'max_depth': 5}</td>\n",
       "      <td>-2066.528301</td>\n",
       "      <td>-1886.882701</td>\n",
       "      <td>-2422.438167</td>\n",
       "      <td>-2089.330010</td>\n",
       "      <td>-2636.770868</td>\n",
       "      <td>-2220.390009</td>\n",
       "      <td>270.656148</td>\n",
       "      <td>1</td>\n",
       "      <td>0.064043</td>\n",
       "      <td>1</td>\n",
       "      <td>5</td>\n",
       "    </tr>\n",
       "    <tr>\n",
       "      <th>1</th>\n",
       "      <td>4</td>\n",
       "      <td>{'max_depth': 7}</td>\n",
       "      <td>-2227.903955</td>\n",
       "      <td>-1856.633070</td>\n",
       "      <td>-2484.075173</td>\n",
       "      <td>-2076.426661</td>\n",
       "      <td>-2553.763625</td>\n",
       "      <td>-2239.760497</td>\n",
       "      <td>257.640358</td>\n",
       "      <td>2</td>\n",
       "      <td>0.075886</td>\n",
       "      <td>1</td>\n",
       "      <td>7</td>\n",
       "    </tr>\n",
       "    <tr>\n",
       "      <th>2</th>\n",
       "      <td>2</td>\n",
       "      <td>{'max_depth': 4}</td>\n",
       "      <td>-2102.888730</td>\n",
       "      <td>-1866.945114</td>\n",
       "      <td>-2435.780523</td>\n",
       "      <td>-2160.145183</td>\n",
       "      <td>-2651.614936</td>\n",
       "      <td>-2243.474897</td>\n",
       "      <td>272.779301</td>\n",
       "      <td>3</td>\n",
       "      <td>0.057943</td>\n",
       "      <td>1</td>\n",
       "      <td>4</td>\n",
       "    </tr>\n",
       "    <tr>\n",
       "      <th>3</th>\n",
       "      <td>1</td>\n",
       "      <td>{'max_depth': 2}</td>\n",
       "      <td>-2177.698384</td>\n",
       "      <td>-1894.294530</td>\n",
       "      <td>-2694.022462</td>\n",
       "      <td>-2396.275317</td>\n",
       "      <td>-2891.876280</td>\n",
       "      <td>-2410.833395</td>\n",
       "      <td>355.801792</td>\n",
       "      <td>4</td>\n",
       "      <td>0.050941</td>\n",
       "      <td>1</td>\n",
       "      <td>2</td>\n",
       "    </tr>\n",
       "    <tr>\n",
       "      <th>4</th>\n",
       "      <td>5</td>\n",
       "      <td>{'max_depth': 10}</td>\n",
       "      <td>-2429.684288</td>\n",
       "      <td>-1990.989936</td>\n",
       "      <td>-2690.971599</td>\n",
       "      <td>-2360.483148</td>\n",
       "      <td>-2824.956956</td>\n",
       "      <td>-2459.417185</td>\n",
       "      <td>288.905814</td>\n",
       "      <td>5</td>\n",
       "      <td>0.105283</td>\n",
       "      <td>1</td>\n",
       "      <td>10</td>\n",
       "    </tr>\n",
       "    <tr>\n",
       "      <th>5</th>\n",
       "      <td>0</td>\n",
       "      <td>{'max_depth': 1}</td>\n",
       "      <td>-2478.472550</td>\n",
       "      <td>-2106.533304</td>\n",
       "      <td>-2942.229808</td>\n",
       "      <td>-2491.228747</td>\n",
       "      <td>-3449.093549</td>\n",
       "      <td>-2693.511592</td>\n",
       "      <td>461.404052</td>\n",
       "      <td>6</td>\n",
       "      <td>0.037644</td>\n",
       "      <td>1</td>\n",
       "      <td>1</td>\n",
       "    </tr>\n",
       "    <tr>\n",
       "      <th>6</th>\n",
       "      <td>6</td>\n",
       "      <td>{'max_depth': 50}</td>\n",
       "      <td>-2926.554592</td>\n",
       "      <td>-2522.378005</td>\n",
       "      <td>-3167.398689</td>\n",
       "      <td>-2687.239044</td>\n",
       "      <td>-3414.674969</td>\n",
       "      <td>-2943.649060</td>\n",
       "      <td>321.072242</td>\n",
       "      <td>7</td>\n",
       "      <td>0.179526</td>\n",
       "      <td>1</td>\n",
       "      <td>50</td>\n",
       "    </tr>\n",
       "  </tbody>\n",
       "</table>\n",
       "</div>"
      ],
      "text/plain": [
       "   index             params  split0_test_score  split1_test_score  split2_test_score  split3_test_score  split4_test_score  mean_test_score  std_test_score  rank_test_score  time_total_s  training_iteration param_max_depth\n",
       "0      3   {'max_depth': 5}       -2066.528301       -1886.882701       -2422.438167       -2089.330010       -2636.770868     -2220.390009      270.656148                1      0.064043                   1               5\n",
       "1      4   {'max_depth': 7}       -2227.903955       -1856.633070       -2484.075173       -2076.426661       -2553.763625     -2239.760497      257.640358                2      0.075886                   1               7\n",
       "2      2   {'max_depth': 4}       -2102.888730       -1866.945114       -2435.780523       -2160.145183       -2651.614936     -2243.474897      272.779301                3      0.057943                   1               4\n",
       "3      1   {'max_depth': 2}       -2177.698384       -1894.294530       -2694.022462       -2396.275317       -2891.876280     -2410.833395      355.801792                4      0.050941                   1               2\n",
       "4      5  {'max_depth': 10}       -2429.684288       -1990.989936       -2690.971599       -2360.483148       -2824.956956     -2459.417185      288.905814                5      0.105283                   1              10\n",
       "5      0   {'max_depth': 1}       -2478.472550       -2106.533304       -2942.229808       -2491.228747       -3449.093549     -2693.511592      461.404052                6      0.037644                   1               1\n",
       "6      6  {'max_depth': 50}       -2926.554592       -2522.378005       -3167.398689       -2687.239044       -3414.674969     -2943.649060      321.072242                7      0.179526                   1              50"
      ]
     },
     "execution_count": 21,
     "metadata": {},
     "output_type": "execute_result"
    }
   ],
   "source": [
    "params_comparison = pd.DataFrame(exp.cv_model.cv_results_)\n",
    "params_comparison.sort_values(by='rank_test_score').reset_index()"
   ]
  },
  {
   "cell_type": "markdown",
   "id": "6f0420db-7c5b-4e2f-a7cd-7e29f824ac6c",
   "metadata": {},
   "source": [
    "It may be informative to compare both the performance on the test set and the WalkForward's `mean_test_score` and `std_test_score` values when choosing across models (e.g., when comparing DNN and XGBoost)."
   ]
  },
  {
   "cell_type": "code",
   "execution_count": 22,
   "id": "3db9d7ae-7fa3-4c7e-963c-6ecc8abba5a9",
   "metadata": {},
   "outputs": [
    {
     "data": {
      "text/plain": [
       "{'VOLUME_fut_R2': 0.7206484757661189,\n",
       " 'VOLUME_fut_MAE': 2430.6749551020084,\n",
       " 'VOLUME_fut_RMSE': 3600.759091668688,\n",
       " 'VOLUME_fut_MAPE': 0.21395223528229643}"
      ]
     },
     "execution_count": 22,
     "metadata": {},
     "output_type": "execute_result"
    }
   ],
   "source": [
    "predictions = exp.predict(x=exp.x_test)\n",
    "metrics = exp.calc_metrics(y=exp.y_unprocessed.loc[exp.y_test.index],\n",
    "                           prediction=predictions)\n",
    "metrics"
   ]
  },
  {
   "cell_type": "code",
   "execution_count": null,
   "id": "ab1f5e55-59b3-4a80-b87e-9a4b3a9cd6cd",
   "metadata": {},
   "outputs": [],
   "source": []
  }
 ],
 "metadata": {
  "kernelspec": {
   "display_name": "Python 3 (ipykernel)",
   "language": "python",
   "name": "python3"
  },
  "language_info": {
   "codemirror_mode": {
    "name": "ipython",
    "version": 3
   },
   "file_extension": ".py",
   "mimetype": "text/x-python",
   "name": "python",
   "nbconvert_exporter": "python",
   "pygments_lexer": "ipython3",
   "version": "3.9.8"
  }
 },
 "nbformat": 4,
 "nbformat_minor": 5
}
