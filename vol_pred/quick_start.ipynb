{
 "cells": [
  {
   "cell_type": "markdown",
   "id": "c43737d2-a700-4a61-b0eb-110cffdff39c",
   "metadata": {},
   "source": [
    "# Quick Start\n",
    "\n",
    "We'll walk through creating a model for intraday volume prediction: predict trading volume in the next 10 minutes. For more data science use cases see the [Use Cases](./mini_use_cases.ipynb) notebook."
   ]
  },
  {
   "cell_type": "code",
   "execution_count": 1,
   "id": "eef1e8bf-1d45-4c65-9734-06d64d4c3dbe",
   "metadata": {
    "tags": []
   },
   "outputs": [],
   "source": [
    "!pip install -U onetick-ds-framework\n",
    "!pip install -U onetick.py"
   ]
  },
  {
   "cell_type": "code",
   "execution_count": 2,
   "id": "d95ae701-43d6-4396-a622-1ad8457622d7",
   "metadata": {},
   "outputs": [
    {
     "name": "stdout",
     "output_type": "stream",
     "text": [
      "0.0.72\n",
      "1.14.42\n"
     ]
    }
   ],
   "source": [
    "import os\n",
    "import yaml\n",
    "\n",
    "from dsframework.utils import build_experiment\n",
    "import dsframework\n",
    "import onetick.py as otp\n",
    "print(dsframework.__version__)\n",
    "print(otp.__version__)\n",
    "\n",
    "from dsframework.utils import logger\n",
    "import logging\n",
    "logger.setLevel(logging.ERROR)"
   ]
  },
  {
   "cell_type": "markdown",
   "id": "e2d41b92-5610-4f63-9979-95ebccf27cf5",
   "metadata": {},
   "source": [
    "# Create experiment based on a config file\n",
    "Configuring experiments is easy with a YAML config file. You can examine the file [here](./volume_prediction_config.yml)."
   ]
  },
  {
   "cell_type": "code",
   "execution_count": 3,
   "id": "2434cfca-df4d-48ac-bd75-55756ed02de6",
   "metadata": {},
   "outputs": [],
   "source": [
    "config_path = os.path.join('./volume_prediction_config.yml')\n",
    "config = yaml.load(open(config_path), Loader=yaml.Loader)\n",
    "config['training']['search_cv'] = False # turn of hyperparameter tuning for this example\n",
    "exp = build_experiment(config)"
   ]
  },
  {
   "cell_type": "markdown",
   "id": "589c4328-653e-4700-8680-8b14d6835115",
   "metadata": {},
   "source": [
    "# Get data\n",
    "You can examine the data specified in the config file and analyze it using you favorite Python libraries. The data is returned in a pandas DataFrame."
   ]
  },
  {
   "cell_type": "code",
   "execution_count": 4,
   "id": "297f1f15-fa90-40c7-96e3-a8e7b272ba2c",
   "metadata": {},
   "outputs": [
    {
     "data": {
      "text/html": [
       "<div>\n",
       "<style scoped>\n",
       "    .dataframe tbody tr th:only-of-type {\n",
       "        vertical-align: middle;\n",
       "    }\n",
       "\n",
       "    .dataframe tbody tr th {\n",
       "        vertical-align: top;\n",
       "    }\n",
       "\n",
       "    .dataframe thead th {\n",
       "        text-align: right;\n",
       "    }\n",
       "</style>\n",
       "<table border=\"1\" class=\"dataframe\">\n",
       "  <thead>\n",
       "    <tr style=\"text-align: right;\">\n",
       "      <th></th>\n",
       "      <th>Time</th>\n",
       "      <th>hhmm_fut</th>\n",
       "      <th>VOLUME_fut</th>\n",
       "    </tr>\n",
       "  </thead>\n",
       "  <tbody>\n",
       "    <tr>\n",
       "      <th>0</th>\n",
       "      <td>2021-04-01 09:40:00</td>\n",
       "      <td>09:40</td>\n",
       "      <td>31967</td>\n",
       "    </tr>\n",
       "    <tr>\n",
       "      <th>1</th>\n",
       "      <td>2021-04-01 09:50:00</td>\n",
       "      <td>09:50</td>\n",
       "      <td>13194</td>\n",
       "    </tr>\n",
       "    <tr>\n",
       "      <th>2</th>\n",
       "      <td>2021-04-01 10:00:00</td>\n",
       "      <td>10:00</td>\n",
       "      <td>9774</td>\n",
       "    </tr>\n",
       "    <tr>\n",
       "      <th>3</th>\n",
       "      <td>2021-04-01 10:10:00</td>\n",
       "      <td>10:10</td>\n",
       "      <td>26026</td>\n",
       "    </tr>\n",
       "    <tr>\n",
       "      <th>4</th>\n",
       "      <td>2021-04-01 10:20:00</td>\n",
       "      <td>10:20</td>\n",
       "      <td>10889</td>\n",
       "    </tr>\n",
       "    <tr>\n",
       "      <th>...</th>\n",
       "      <td>...</td>\n",
       "      <td>...</td>\n",
       "      <td>...</td>\n",
       "    </tr>\n",
       "    <tr>\n",
       "      <th>10011</th>\n",
       "      <td>2022-04-01 15:20:00</td>\n",
       "      <td>15:20</td>\n",
       "      <td>9723</td>\n",
       "    </tr>\n",
       "    <tr>\n",
       "      <th>10012</th>\n",
       "      <td>2022-04-01 15:30:00</td>\n",
       "      <td>15:30</td>\n",
       "      <td>9506</td>\n",
       "    </tr>\n",
       "    <tr>\n",
       "      <th>10013</th>\n",
       "      <td>2022-04-01 15:40:00</td>\n",
       "      <td>15:40</td>\n",
       "      <td>10394</td>\n",
       "    </tr>\n",
       "    <tr>\n",
       "      <th>10014</th>\n",
       "      <td>2022-04-01 15:50:00</td>\n",
       "      <td>15:50</td>\n",
       "      <td>11058</td>\n",
       "    </tr>\n",
       "    <tr>\n",
       "      <th>10015</th>\n",
       "      <td>2022-04-01 16:00:00</td>\n",
       "      <td>16:00</td>\n",
       "      <td>28092</td>\n",
       "    </tr>\n",
       "  </tbody>\n",
       "</table>\n",
       "<p>10016 rows × 3 columns</p>\n",
       "</div>"
      ],
      "text/plain": [
       "                      Time hhmm_fut  VOLUME_fut\n",
       "0      2021-04-01 09:40:00    09:40       31967\n",
       "1      2021-04-01 09:50:00    09:50       13194\n",
       "2      2021-04-01 10:00:00    10:00        9774\n",
       "3      2021-04-01 10:10:00    10:10       26026\n",
       "4      2021-04-01 10:20:00    10:20       10889\n",
       "...                    ...      ...         ...\n",
       "10011  2022-04-01 15:20:00    15:20        9723\n",
       "10012  2022-04-01 15:30:00    15:30        9506\n",
       "10013  2022-04-01 15:40:00    15:40       10394\n",
       "10014  2022-04-01 15:50:00    15:50       11058\n",
       "10015  2022-04-01 16:00:00    16:00       28092\n",
       "\n",
       "[10016 rows x 3 columns]"
      ]
     },
     "execution_count": 4,
     "metadata": {},
     "output_type": "execute_result"
    }
   ],
   "source": [
    "exp.get_data()"
   ]
  },
  {
   "cell_type": "markdown",
   "id": "5843b134-9cde-475a-9234-80599b20e70e",
   "metadata": {},
   "source": [
    "# Prepare Features\n",
    "The `prepare_data` method adds features, applies preprocessing, and splits the data into train/validate/test as per the config file. The following DataFrames will be available in `exp` after `prepare_data` is called: \n",
    "\n",
    "    x_train - features for training\n",
    "    x_val - features for validation\n",
    "    x_test - features for testing\n",
    "    y_train - targets for training\n",
    "    y_val - targets for validation \n",
    "    y_test - targets for testing"
   ]
  },
  {
   "cell_type": "code",
   "execution_count": 8,
   "id": "e27f50f0-fe18-4db4-bf41-d78492e2b3ba",
   "metadata": {
    "tags": []
   },
   "outputs": [
    {
     "data": {
      "text/html": [
       "<div>\n",
       "<style scoped>\n",
       "    .dataframe tbody tr th:only-of-type {\n",
       "        vertical-align: middle;\n",
       "    }\n",
       "\n",
       "    .dataframe tbody tr th {\n",
       "        vertical-align: top;\n",
       "    }\n",
       "\n",
       "    .dataframe thead th {\n",
       "        text-align: right;\n",
       "    }\n",
       "</style>\n",
       "<table border=\"1\" class=\"dataframe\">\n",
       "  <thead>\n",
       "    <tr style=\"text-align: right;\">\n",
       "      <th></th>\n",
       "      <th>VOLUME_fut_lag_1</th>\n",
       "      <th>VOLUME_fut_lag_2</th>\n",
       "      <th>VOLUME_fut_lag_3</th>\n",
       "      <th>VOLUME_fut_lag_39</th>\n",
       "      <th>VOLUME_fut_lag_40</th>\n",
       "    </tr>\n",
       "  </thead>\n",
       "  <tbody>\n",
       "    <tr>\n",
       "      <th>820</th>\n",
       "      <td>0.386654</td>\n",
       "      <td>0.545518</td>\n",
       "      <td>0.548112</td>\n",
       "      <td>0.432484</td>\n",
       "      <td>0.418640</td>\n",
       "    </tr>\n",
       "    <tr>\n",
       "      <th>821</th>\n",
       "      <td>0.420214</td>\n",
       "      <td>0.386639</td>\n",
       "      <td>0.545519</td>\n",
       "      <td>0.460330</td>\n",
       "      <td>0.432452</td>\n",
       "    </tr>\n",
       "    <tr>\n",
       "      <th>822</th>\n",
       "      <td>0.418077</td>\n",
       "      <td>0.420198</td>\n",
       "      <td>0.386641</td>\n",
       "      <td>0.436759</td>\n",
       "      <td>0.460295</td>\n",
       "    </tr>\n",
       "    <tr>\n",
       "      <th>823</th>\n",
       "      <td>0.533263</td>\n",
       "      <td>0.418060</td>\n",
       "      <td>0.420199</td>\n",
       "      <td>0.451760</td>\n",
       "      <td>0.436726</td>\n",
       "    </tr>\n",
       "    <tr>\n",
       "      <th>824</th>\n",
       "      <td>0.452859</td>\n",
       "      <td>0.533240</td>\n",
       "      <td>0.418061</td>\n",
       "      <td>0.492920</td>\n",
       "      <td>0.451727</td>\n",
       "    </tr>\n",
       "    <tr>\n",
       "      <th>...</th>\n",
       "      <td>...</td>\n",
       "      <td>...</td>\n",
       "      <td>...</td>\n",
       "      <td>...</td>\n",
       "      <td>...</td>\n",
       "    </tr>\n",
       "    <tr>\n",
       "      <th>7354</th>\n",
       "      <td>0.421037</td>\n",
       "      <td>0.368229</td>\n",
       "      <td>0.362486</td>\n",
       "      <td>0.346420</td>\n",
       "      <td>0.344855</td>\n",
       "    </tr>\n",
       "    <tr>\n",
       "      <th>7355</th>\n",
       "      <td>0.383425</td>\n",
       "      <td>0.421020</td>\n",
       "      <td>0.368230</td>\n",
       "      <td>0.371892</td>\n",
       "      <td>0.346395</td>\n",
       "    </tr>\n",
       "    <tr>\n",
       "      <th>7356</th>\n",
       "      <td>0.369573</td>\n",
       "      <td>0.383411</td>\n",
       "      <td>0.421021</td>\n",
       "      <td>0.344477</td>\n",
       "      <td>0.371865</td>\n",
       "    </tr>\n",
       "    <tr>\n",
       "      <th>7357</th>\n",
       "      <td>0.362603</td>\n",
       "      <td>0.369560</td>\n",
       "      <td>0.383412</td>\n",
       "      <td>0.329824</td>\n",
       "      <td>0.344453</td>\n",
       "    </tr>\n",
       "    <tr>\n",
       "      <th>7358</th>\n",
       "      <td>0.382936</td>\n",
       "      <td>0.362590</td>\n",
       "      <td>0.369561</td>\n",
       "      <td>0.380849</td>\n",
       "      <td>0.329800</td>\n",
       "    </tr>\n",
       "  </tbody>\n",
       "</table>\n",
       "<p>6539 rows × 5 columns</p>\n",
       "</div>"
      ],
      "text/plain": [
       "      VOLUME_fut_lag_1  VOLUME_fut_lag_2  VOLUME_fut_lag_3  VOLUME_fut_lag_39  VOLUME_fut_lag_40\n",
       "820           0.386654          0.545518          0.548112           0.432484           0.418640\n",
       "821           0.420214          0.386639          0.545519           0.460330           0.432452\n",
       "822           0.418077          0.420198          0.386641           0.436759           0.460295\n",
       "823           0.533263          0.418060          0.420199           0.451760           0.436726\n",
       "824           0.452859          0.533240          0.418061           0.492920           0.451727\n",
       "...                ...               ...               ...                ...                ...\n",
       "7354          0.421037          0.368229          0.362486           0.346420           0.344855\n",
       "7355          0.383425          0.421020          0.368230           0.371892           0.346395\n",
       "7356          0.369573          0.383411          0.421021           0.344477           0.371865\n",
       "7357          0.362603          0.369560          0.383412           0.329824           0.344453\n",
       "7358          0.382936          0.362590          0.369561           0.380849           0.329800\n",
       "\n",
       "[6539 rows x 5 columns]"
      ]
     },
     "execution_count": 8,
     "metadata": {},
     "output_type": "execute_result"
    }
   ],
   "source": [
    "exp.prepare_data()\n",
    "\n",
    "exp.x_train # can also examine exp.y_train, etc"
   ]
  },
  {
   "cell_type": "markdown",
   "id": "5e0a73b4-1bd4-4714-bbdb-2d15a19fa5a1",
   "metadata": {},
   "source": [
    "# Train model\n",
    "The next step is to train the model based on the parameters in the config file. Hyperparameter optimization will be performed using grid search if ranges of values are specified for model parameters (see [models and hyperparameters](./models_and_hyperparameters.ipynb))."
   ]
  },
  {
   "cell_type": "code",
   "execution_count": 9,
   "id": "e2cfc195-1ed5-4486-99a9-a5aa745bccec",
   "metadata": {},
   "outputs": [],
   "source": [
    "%%capture\n",
    "exp.init_fit()"
   ]
  },
  {
   "cell_type": "code",
   "execution_count": 10,
   "id": "785e68e5-e738-41ee-b51d-a54bfd46e56b",
   "metadata": {},
   "outputs": [
    {
     "data": {
      "text/plain": [
       "{'learning_rate': 0.01,\n",
       " 'n_estimators': 100,\n",
       " 'max_depth': 2,\n",
       " 'min_child_weight': 2,\n",
       " 'max_delta_step': 0,\n",
       " 'subsample': 0.9,\n",
       " 'nthread': 2}"
      ]
     },
     "execution_count": 10,
     "metadata": {},
     "output_type": "execute_result"
    }
   ],
   "source": [
    "exp.current_model_params # parameters of the model"
   ]
  },
  {
   "cell_type": "markdown",
   "id": "26a7eccc-efcf-45eb-b866-d79231c70180",
   "metadata": {},
   "source": [
    "# Predict targets\n",
    "Get predictions now that we have a trained model."
   ]
  },
  {
   "cell_type": "code",
   "execution_count": 11,
   "id": "ece7f173-2bd7-4b65-bcc1-44d0485b672c",
   "metadata": {},
   "outputs": [
    {
     "data": {
      "text/html": [
       "<div>\n",
       "<style scoped>\n",
       "    .dataframe tbody tr th:only-of-type {\n",
       "        vertical-align: middle;\n",
       "    }\n",
       "\n",
       "    .dataframe tbody tr th {\n",
       "        vertical-align: top;\n",
       "    }\n",
       "\n",
       "    .dataframe thead th {\n",
       "        text-align: right;\n",
       "    }\n",
       "</style>\n",
       "<table border=\"1\" class=\"dataframe\">\n",
       "  <thead>\n",
       "    <tr style=\"text-align: right;\">\n",
       "      <th></th>\n",
       "      <th>VOLUME_fut_PREDICTION</th>\n",
       "    </tr>\n",
       "  </thead>\n",
       "  <tbody>\n",
       "    <tr>\n",
       "      <th>8513</th>\n",
       "      <td>32975.180390</td>\n",
       "    </tr>\n",
       "    <tr>\n",
       "      <th>8514</th>\n",
       "      <td>26944.110516</td>\n",
       "    </tr>\n",
       "    <tr>\n",
       "      <th>8515</th>\n",
       "      <td>20511.256732</td>\n",
       "    </tr>\n",
       "    <tr>\n",
       "      <th>8516</th>\n",
       "      <td>21225.624316</td>\n",
       "    </tr>\n",
       "    <tr>\n",
       "      <th>8517</th>\n",
       "      <td>19664.905713</td>\n",
       "    </tr>\n",
       "    <tr>\n",
       "      <th>...</th>\n",
       "      <td>...</td>\n",
       "    </tr>\n",
       "    <tr>\n",
       "      <th>10011</th>\n",
       "      <td>9138.217749</td>\n",
       "    </tr>\n",
       "    <tr>\n",
       "      <th>10012</th>\n",
       "      <td>9587.655103</td>\n",
       "    </tr>\n",
       "    <tr>\n",
       "      <th>10013</th>\n",
       "      <td>10531.510608</td>\n",
       "    </tr>\n",
       "    <tr>\n",
       "      <th>10014</th>\n",
       "      <td>10749.750977</td>\n",
       "    </tr>\n",
       "    <tr>\n",
       "      <th>10015</th>\n",
       "      <td>25029.744122</td>\n",
       "    </tr>\n",
       "  </tbody>\n",
       "</table>\n",
       "<p>1503 rows × 1 columns</p>\n",
       "</div>"
      ],
      "text/plain": [
       "       VOLUME_fut_PREDICTION\n",
       "8513            32975.180390\n",
       "8514            26944.110516\n",
       "8515            20511.256732\n",
       "8516            21225.624316\n",
       "8517            19664.905713\n",
       "...                      ...\n",
       "10011            9138.217749\n",
       "10012            9587.655103\n",
       "10013           10531.510608\n",
       "10014           10749.750977\n",
       "10015           25029.744122\n",
       "\n",
       "[1503 rows x 1 columns]"
      ]
     },
     "execution_count": 11,
     "metadata": {},
     "output_type": "execute_result"
    }
   ],
   "source": [
    "predictions = exp.predict(x=exp.x_test)\n",
    "predictions"
   ]
  },
  {
   "cell_type": "markdown",
   "id": "25950b24-abb8-41ac-be0d-15558bd36995",
   "metadata": {},
   "source": [
    "# Evaluate the predictions"
   ]
  },
  {
   "cell_type": "code",
   "execution_count": 15,
   "id": "86781a00-d698-4ac1-abb1-7460a06346fa",
   "metadata": {},
   "outputs": [],
   "source": [
    "%%capture\n",
    "metrics = exp.calc_metrics(y=exp.y_unprocessed.loc[exp.y_test.index],\n",
    "                               prediction=predictions)"
   ]
  },
  {
   "cell_type": "code",
   "execution_count": 16,
   "id": "7f6b5364-b386-48e5-bf00-10668860bd96",
   "metadata": {},
   "outputs": [
    {
     "data": {
      "text/plain": [
       "{'VOLUME_fut_R2': 0.6943093856701434,\n",
       " 'VOLUME_fut_MAE': 2585.8595131799684,\n",
       " 'VOLUME_fut_RMSE': 3766.6875414285173,\n",
       " 'VOLUME_fut_MAPE': 0.256538897755401}"
      ]
     },
     "execution_count": 16,
     "metadata": {},
     "output_type": "execute_result"
    },
    {
     "name": "stderr",
     "output_type": "stream",
     "text": [
      "Log channel is reconnecting. Logs produced while the connection was down can be found on the head node of the cluster in `ray_client_server_[port].out`\n"
     ]
    }
   ],
   "source": [
    "metrics"
   ]
  },
  {
   "cell_type": "markdown",
   "id": "2949ffe1-58a2-4bf6-a679-7a5931f32e60",
   "metadata": {},
   "source": [
    "For more data science use cases see the [Use Cases](./mini_use_cases.ipynb) notebook."
   ]
  }
 ],
 "metadata": {
  "kernelspec": {
   "display_name": "Python 3 (ipykernel)",
   "language": "python",
   "name": "python3"
  },
  "language_info": {
   "codemirror_mode": {
    "name": "ipython",
    "version": 3
   },
   "file_extension": ".py",
   "mimetype": "text/x-python",
   "name": "python",
   "nbconvert_exporter": "python",
   "pygments_lexer": "ipython3",
   "version": "3.9.8"
  }
 },
 "nbformat": 4,
 "nbformat_minor": 5
}
