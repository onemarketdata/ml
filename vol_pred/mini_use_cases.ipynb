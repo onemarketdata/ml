{
 "cells": [
  {
   "cell_type": "markdown",
   "id": "e412f711-7011-4d70-a119-99e19bf535de",
   "metadata": {},
   "source": [
    "# Installs"
   ]
  },
  {
   "cell_type": "code",
   "execution_count": 1,
   "id": "e75fd128-9b10-4361-b684-85c7f183aa4b",
   "metadata": {
    "tags": []
   },
   "outputs": [],
   "source": [
    "# !pip install -U onetick-ds-framework\n",
    "# !pip install -U onetick.py"
   ]
  },
  {
   "cell_type": "markdown",
   "id": "88f82ec9-9b15-49e3-ba3b-c071e803b239",
   "metadata": {},
   "source": [
    "# Imports"
   ]
  },
  {
   "cell_type": "code",
   "execution_count": 2,
   "id": "cf8be105-b5d6-495e-92b4-ce322489ac8b",
   "metadata": {},
   "outputs": [],
   "source": [
    "%%capture\n",
    "import os\n",
    "import yaml\n",
    "import itertools\n",
    "\n",
    "from dsframework.utils import build_experiment\n",
    "import onetick.py as otp"
   ]
  },
  {
   "cell_type": "markdown",
   "id": "a9e081e6-3628-4c40-b751-fea6d98ec62c",
   "metadata": {},
   "source": [
    "# Mini usecases"
   ]
  },
  {
   "cell_type": "markdown",
   "id": "0549543b-0389-4e14-9ade-a8bb4c1e2b03",
   "metadata": {},
   "source": [
    "## 1. Simple Experiment run"
   ]
  },
  {
   "cell_type": "code",
   "execution_count": 3,
   "id": "55dd67bf-3b3c-409b-879d-dc9937f4f1c5",
   "metadata": {},
   "outputs": [
    {
     "data": {
      "text/html": [],
      "text/plain": [
       "<IPython.core.display.HTML object>"
      ]
     },
     "metadata": {},
     "output_type": "display_data"
    },
    {
     "name": "stdout",
     "output_type": "stream",
     "text": [
      "      VOLUME_PREDICTION\n",
      "8500        5686.274239\n",
      "8501        5594.027861\n",
      "8502        6003.124030\n",
      "8503        7989.692529\n",
      "8504        7467.357646\n",
      "...                 ...\n",
      "9995        3355.691032\n",
      "9996        3142.114660\n",
      "9997        2828.472254\n",
      "9998        3773.203191\n",
      "9999        3424.182879\n",
      "\n",
      "[1500 rows x 1 columns]\n"
     ]
    },
    {
     "data": {
      "text/plain": [
       "{'VOLUME_MAE': 500.0867144249592}"
      ]
     },
     "execution_count": 3,
     "metadata": {},
     "output_type": "execute_result"
    }
   ],
   "source": [
    "# init experiment based on config\n",
    "config_path = os.path.join('./min_config.yml')\n",
    "config = yaml.load(open(config_path), Loader=yaml.Loader)\n",
    "exp = build_experiment(config)\n",
    "\n",
    "# get data\n",
    "df_orig = exp.get_data()\n",
    "\n",
    "# prepare data\n",
    "exp.prepare_data()\n",
    "\n",
    "# train model\n",
    "exp.init_fit(local_mode=True)\n",
    "\n",
    "# predict result\n",
    "prediction = exp.predict(x = exp.x_test)\n",
    "print(prediction)\n",
    "\n",
    "# calc metrics\n",
    "exp.calc_metrics()"
   ]
  },
  {
   "cell_type": "markdown",
   "id": "44b883c9-d0ae-46ab-bbd3-5a21009ac37c",
   "metadata": {},
   "source": [
    "## 2. Hyper-parameters optimization"
   ]
  },
  {
   "cell_type": "markdown",
   "id": "f6f459f1-6a4f-4d04-8bd8-a330c2a19bc4",
   "metadata": {},
   "source": [
    "There are 2 ways to configure tuning hyperparameters:\n",
    "1) change config: \n",
    "\n",
    "    modify yaml-file directly (enable hyperparameter tuning and pass parameter lists):\n",
    "\n",
    "    ```\n",
    "    training:\n",
    "        use: 'CatBoostRegressor'\n",
    "        search_cv:\n",
    "          tuning_cv: True\n",
    "        models:\n",
    "          CatBoostRegressor:\n",
    "            init_params:\n",
    "              iterations: [ 500 ]\n",
    "              learning_rate: [ 0.09 ]\n",
    "              l2_leaf_reg: [ 1, 2, 3 ]\n",
    "              depth: [ 1, 2 ]\n",
    "            fit_params:\n",
    "              verbose: 0\n",
    "    ```\n",
    "    \n",
    "    or modify config after loading from yaml file:\n",
    "    \n",
    "    ```\n",
    "    config['training']['search_cv']['tuning_cv'] = True\n",
    "    config['training']['models']['CatBoostRegressor']['init_params'] = {'iterations': [ 500 ],\n",
    "                                                                        'learning_rate': [ 0.09 ],\n",
    "                                                                        'l2_leaf_reg': [ 1, 2, 3 ],\n",
    "                                                                        'depth': [ 1, 2 ]}\n",
    "    ```\n",
    "2) modify `training_params` and `init_params_grid` parameter in the `init_fit` function:\n",
    "    ```\n",
    "    exp.init_fit(training_params={'search_cv_params':\n",
    "                                      {'tuning_cv': True}\n",
    "                                  },\n",
    "                 init_params_grid={'iterations': [500],\n",
    "                                   'learning_rate': [0.09],\n",
    "                                   'l2_leaf_reg': [1, 2, 3],\n",
    "                                   'depth': [1, 2]\n",
    "                                   })\n",
    "    ```"
   ]
  },
  {
   "cell_type": "code",
   "execution_count": 4,
   "id": "fef69ef9-ccde-4e47-9f71-9a9116d6f974",
   "metadata": {},
   "outputs": [
    {
     "data": {
      "text/html": [],
      "text/plain": [
       "<IPython.core.display.HTML object>"
      ]
     },
     "metadata": {},
     "output_type": "display_data"
    },
    {
     "data": {
      "text/plain": [
       "{'iterations': 500, 'learning_rate': 0.09, 'l2_leaf_reg': 3, 'depth': 2}"
      ]
     },
     "execution_count": 4,
     "metadata": {},
     "output_type": "execute_result"
    }
   ],
   "source": [
    "# Example with the modifying init_params_grid parameter in the init_fit function:\n",
    "\n",
    "config_path = os.path.join('./min_config.yml')\n",
    "config = yaml.load(open(config_path), Loader=yaml.Loader)\n",
    "exp = build_experiment(config)\n",
    "\n",
    "exp.get_data()\n",
    "exp.prepare_data()\n",
    "exp.init_fit(training_params={'search_cv':\n",
    "                                  {'tuning_cv': True}\n",
    "                              },\n",
    "             init_params_grid={'iterations': [500],\n",
    "                               'learning_rate': [0.09],\n",
    "                               'l2_leaf_reg': [1, 2, 3],\n",
    "                               'depth': [1, 2]\n",
    "                               },\n",
    "             local_mode=True)\n",
    "\n",
    "# best params\n",
    "exp.current_model_params"
   ]
  },
  {
   "cell_type": "markdown",
   "id": "b6037604-4631-4b83-9b53-8f4193dcbdd8",
   "metadata": {},
   "source": [
    "## 3. Tuning ML model"
   ]
  },
  {
   "cell_type": "code",
   "execution_count": 5,
   "id": "b3561d47-87f9-41fd-89df-ace5f8346984",
   "metadata": {},
   "outputs": [
    {
     "data": {
      "text/html": [],
      "text/plain": [
       "<IPython.core.display.HTML object>"
      ]
     },
     "metadata": {},
     "output_type": "display_data"
    },
    {
     "data": {
      "text/plain": [
       "{'XGBRegressor': {'VOLUME_MAE': 528.0314935709636},\n",
       " 'CatBoostRegressor': {'VOLUME_MAE': 500.0867144249592},\n",
       " 'DNNRegressor': {'VOLUME_MAE': 4979.535737752279},\n",
       " 'DecisionTreeRegressor': {'VOLUME_MAE': 694.2513333333334},\n",
       " 'RandomForestRegressor': {'VOLUME_MAE': 538.7566466666666}}"
      ]
     },
     "execution_count": 5,
     "metadata": {},
     "output_type": "execute_result"
    }
   ],
   "source": [
    "# Let's list the set of models that we want to test\n",
    "\n",
    "models = ['XGBRegressor', 'CatBoostRegressor', 'DNNRegressor', 'DecisionTreeRegressor', 'RandomForestRegressor']\n",
    "\n",
    "# Calculate metrics for each model\n",
    "\n",
    "config_path = os.path.join('./min_config.yml')\n",
    "config = yaml.load(open(config_path), Loader=yaml.Loader)\n",
    "\n",
    "res = {}\n",
    "for model in models:\n",
    "    config['training']['use'] = model\n",
    "    exp = build_experiment(config)\n",
    "    exp.get_data()\n",
    "    exp.prepare_data()\n",
    "    exp.init_fit(local_mode=True)\n",
    "    exp.predict(x = exp.x_test)\n",
    "    res[f'{model}'] = exp.calc_metrics()\n",
    "    \n",
    "res"
   ]
  },
  {
   "cell_type": "markdown",
   "id": "99784097-df55-4d1a-b619-2e31a6f7a140",
   "metadata": {},
   "source": [
    "## 4. Tuning of data processing "
   ]
  },
  {
   "cell_type": "code",
   "execution_count": 6,
   "id": "f602f19c-3752-484b-87fc-0f261d190daf",
   "metadata": {},
   "outputs": [
    {
     "data": {
      "text/html": [],
      "text/plain": [
       "<IPython.core.display.HTML object>"
      ]
     },
     "metadata": {},
     "output_type": "display_data"
    },
    {
     "data": {
      "text/plain": [
       "{('dsframework.impl.LimitOutliers = False',\n",
       "  'dsframework.impl.IntradayAveraging = False'): {'VOLUME_MAE': 465.09318226501364},\n",
       " ('dsframework.impl.LimitOutliers = False',\n",
       "  'dsframework.impl.IntradayAveraging = True'): {'VOLUME_MAE': 496.7541489068729},\n",
       " ('dsframework.impl.LimitOutliers = True',\n",
       "  'dsframework.impl.IntradayAveraging = False'): {'VOLUME_MAE': 437.3806200785672},\n",
       " ('dsframework.impl.LimitOutliers = True',\n",
       "  'dsframework.impl.IntradayAveraging = True'): {'VOLUME_MAE': 479.9462812613347}}"
      ]
     },
     "execution_count": 6,
     "metadata": {},
     "output_type": "execute_result"
    }
   ],
   "source": [
    "# Calculate metrics for each combination of data processing\n",
    "\n",
    "config_path = os.path.join('./demo_config.yml')\n",
    "config = yaml.load(open(config_path), Loader=yaml.Loader)\n",
    "\n",
    "res = {}\n",
    "for preproc_combination in list(itertools.product([False, True], [False, True])):\n",
    "    key = []\n",
    "    for idx, preprocessor in enumerate(config['preprocessors']):\n",
    "        preprocessor['use'] = preproc_combination[idx]\n",
    "        key.append(f\"{preprocessor['class']} = {preproc_combination[idx]}\")  \n",
    "    exp = build_experiment(config)\n",
    "    exp.get_data()\n",
    "    exp.prepare_data()\n",
    "    exp.init_fit(local_mode=True)\n",
    "    exp.predict(x = exp.x_test)\n",
    "    res[tuple(key)] = exp.calc_metrics()\n",
    "    \n",
    "res"
   ]
  },
  {
   "cell_type": "markdown",
   "id": "e2bdc955-e8e8-4eff-8513-1211f7c753f2",
   "metadata": {},
   "source": [
    "## 5. Tuning of features"
   ]
  },
  {
   "cell_type": "code",
   "execution_count": 7,
   "id": "50a6532f-62f2-42cb-90ae-bc98b9e5719a",
   "metadata": {},
   "outputs": [
    {
     "data": {
      "text/html": [],
      "text/plain": [
       "<IPython.core.display.HTML object>"
      ]
     },
     "metadata": {},
     "output_type": "display_data"
    },
    {
     "data": {
      "text/plain": [
       "{'lags: (1,)': {'VOLUME_MAE': 493.8599480387573},\n",
       " 'lags: (1, 2)': {'VOLUME_MAE': 496.71957163234885},\n",
       " 'lags: (1, 2, 3)': {'VOLUME_MAE': 464.39686752854914},\n",
       " 'lags: (1, 2, 3, 4)': {'VOLUME_MAE': 497.90489074955866},\n",
       " 'lags: (1, 2, 3, 4, 5)': {'VOLUME_MAE': 470.4375251183097},\n",
       " 'lags: (1, 2, 3, 4, 5, 6)': {'VOLUME_MAE': 503.3914871062161},\n",
       " 'lags: (1, 2, 3, 4, 5, 6, 7)': {'VOLUME_MAE': 507.2907692761104},\n",
       " 'lags: (1, 2, 3, 4, 5, 6, 7, 8)': {'VOLUME_MAE': 506.5415381062806},\n",
       " 'lags: (1, 2, 3, 4, 5, 6, 7, 8, 9)': {'VOLUME_MAE': 481.75941170119785},\n",
       " 'lags: (1, 2, 3, 4, 5, 6, 7, 8, 9, 10)': {'VOLUME_MAE': 514.2889663624289}}"
      ]
     },
     "execution_count": 7,
     "metadata": {},
     "output_type": "execute_result"
    }
   ],
   "source": [
    "# Calculate metrics for each set of lag features\n",
    "\n",
    "config_path = os.path.join('./demo_config.yml')\n",
    "config = yaml.load(open(config_path), Loader=yaml.Loader)\n",
    "\n",
    "res = {}\n",
    "for i in range(2, 12):\n",
    "    lags = list(range(1, i))\n",
    "    config['features'][0]['periods'] = lags\n",
    "    exp = build_experiment(config)\n",
    "    exp.get_data()\n",
    "    exp.prepare_data()\n",
    "    exp.init_fit(local_mode=True)\n",
    "    exp.predict(x = exp.x_test)\n",
    "    res[f'lags: {tuple(lags)}'] = exp.calc_metrics()\n",
    "\n",
    "res"
   ]
  },
  {
   "cell_type": "markdown",
   "id": "6792fffd-5883-4e32-bc03-88d7a9ade5f7",
   "metadata": {},
   "source": [
    "## 6. Test of various types of validation"
   ]
  },
  {
   "cell_type": "markdown",
   "id": "0a9688f9-def7-4807-9e25-917921367942",
   "metadata": {},
   "source": [
    "There are 2 ways to configure validation:\n",
    "1) change config: \n",
    "\n",
    "    modify yaml-file directly:\n",
    "\n",
    "    ```\n",
    "    training:\n",
    "        use: 'CatBoostRegressor'\n",
    "        search_cv:\n",
    "            val_type: 'Simple' # 'Simple', 'Cross', 'WalkForward'\n",
    "            folds: 5 # is used for 'Cross', 'WalkForward'\n",
    "            eval_metric: 'MAE'\n",
    "    ```\n",
    "    \n",
    "    or modify config after loading from yaml file:\n",
    "    \n",
    "    ```\n",
    "    config['training']['search_cv']['val_type'] = 'WalkForward'\n",
    "\n",
    "    ```\n",
    "2) modify `training_params` in the `init_fit` function:\n",
    "    ```\n",
    "    exp.init_fit(training_params={'search_cv_params':\n",
    "                                      {'val_type': 'WalkForward'}\n",
    "                                  }\n",
    "    ```"
   ]
  },
  {
   "cell_type": "code",
   "execution_count": 8,
   "id": "1f30823a-005d-481a-a95e-c14bd8e1d82b",
   "metadata": {},
   "outputs": [
    {
     "data": {
      "text/html": [],
      "text/plain": [
       "<IPython.core.display.HTML object>"
      ]
     },
     "metadata": {},
     "output_type": "display_data"
    },
    {
     "data": {
      "text/plain": [
       "{'params': [{}],\n",
       " 'split0_test_score': array([-558.65148296]),\n",
       " 'split1_test_score': array([-496.90452111]),\n",
       " 'split2_test_score': array([-546.70587834]),\n",
       " 'split3_test_score': array([-519.76188083]),\n",
       " 'split4_test_score': array([-462.55707829]),\n",
       " 'split5_test_score': array([-482.13030472]),\n",
       " 'split6_test_score': array([-481.96009258]),\n",
       " 'split7_test_score': array([-543.13324583]),\n",
       " 'split8_test_score': array([-472.51666105]),\n",
       " 'split9_test_score': array([-510.26431007]),\n",
       " 'mean_test_score': array([-507.45854558]),\n",
       " 'std_test_score': array([31.98930127]),\n",
       " 'rank_test_score': array([1], dtype=int32),\n",
       " 'time_total_s': array([9.0647428]),\n",
       " 'training_iteration': array([1])}"
      ]
     },
     "execution_count": 8,
     "metadata": {},
     "output_type": "execute_result"
    }
   ],
   "source": [
    "# Example with the modifying training_params in the init_fit function:\n",
    "\n",
    "config_path = os.path.join('./min_config.yml')\n",
    "config = yaml.load(open(config_path), Loader=yaml.Loader)\n",
    "\n",
    "exp = build_experiment(config)\n",
    "exp.get_data()\n",
    "exp.prepare_data()\n",
    "exp.init_fit(training_params={'search_cv':\n",
    "                                  {'val_type': 'WalkForward',\n",
    "                                   'folds': 10,\n",
    "                                   'eval_metric': 'MAE'\n",
    "                                  }\n",
    "                              },\n",
    "             local_mode=True)\n",
    "\n",
    "exp.cv_model.cv_results_"
   ]
  },
  {
   "cell_type": "markdown",
   "id": "36406b50-1e78-4eb5-89e0-9ff1c8920c64",
   "metadata": {},
   "source": [
    "## 7. Benchmark: current prediction = previous actual"
   ]
  },
  {
   "cell_type": "code",
   "execution_count": 9,
   "id": "0a747629-8ee2-47e6-8c2c-c0456176541e",
   "metadata": {},
   "outputs": [
    {
     "data": {
      "text/html": [],
      "text/plain": [
       "<IPython.core.display.HTML object>"
      ]
     },
     "metadata": {},
     "output_type": "display_data"
    },
    {
     "data": {
      "text/plain": [
       "('Model metric',\n",
       " {'VOLUME_MAE': 500.0867144249592},\n",
       " 'Baseline metric',\n",
       " {'VOLUME_MAE': 510.7098065376918})"
      ]
     },
     "execution_count": 9,
     "metadata": {},
     "output_type": "execute_result"
    }
   ],
   "source": [
    "config_path = os.path.join('./min_config.yml')\n",
    "config = yaml.load(open(config_path), Loader=yaml.Loader)\n",
    "exp = build_experiment(config)\n",
    "\n",
    "exp.get_data()\n",
    "exp.prepare_data()\n",
    "exp.init_fit(local_mode=True)\n",
    "exp.predict(x = exp.x_test)\n",
    "\n",
    "model_metric = exp.calc_metrics()\n",
    "baseline_metric = exp.calc_baseline()\n",
    "\n",
    "'Model metric', model_metric, 'Baseline metric', baseline_metric"
   ]
  },
  {
   "cell_type": "markdown",
   "id": "c5368865-6bad-4c7b-a0e1-ee60a55ed8c7",
   "metadata": {},
   "source": [
    "## 8. Test of various trading symbols"
   ]
  },
  {
   "cell_type": "markdown",
   "id": "1181b9e9-bc19-449c-bf2b-e497e64ff231",
   "metadata": {},
   "source": [
    "## 9. Adding custom data with features (after/instead of get_data)"
   ]
  },
  {
   "cell_type": "markdown",
   "id": "2c4f5cdc-24f8-4cb1-9f85-c538de218f80",
   "metadata": {},
   "source": [
    "## 10. Adding custom preprocessing"
   ]
  },
  {
   "cell_type": "markdown",
   "id": "9f397002-ce6c-423f-bd40-b6b9f8cb4691",
   "metadata": {},
   "source": [
    "## 11. Prediction intervals"
   ]
  },
  {
   "cell_type": "markdown",
   "id": "37879145-03ed-4e42-9b88-6cb997571810",
   "metadata": {},
   "source": [
    "## 12. Simple examples of overriding experiment pipeline classes"
   ]
  },
  {
   "cell_type": "markdown",
   "id": "57e358d7-1f50-4a23-9dca-f5d22e94f35c",
   "metadata": {},
   "source": [
    "## 13. Simultaneous tuning of models and loss of functions"
   ]
  },
  {
   "cell_type": "markdown",
   "id": "1121aad4-8ae9-4512-b734-26af9360c8c4",
   "metadata": {},
   "source": [
    "## 14. Local saving and loading of models"
   ]
  },
  {
   "cell_type": "markdown",
   "id": "6ab04af7-5532-48e9-9947-6e94646943e1",
   "metadata": {},
   "source": [
    "## 15. Saving and loading experiments using MLflow"
   ]
  },
  {
   "cell_type": "code",
   "execution_count": null,
   "id": "f9299ddd-2796-4511-a9be-61226601b63f",
   "metadata": {},
   "outputs": [],
   "source": []
  }
 ],
 "metadata": {
  "kernelspec": {
   "display_name": "Python 3 (ipykernel)",
   "language": "python",
   "name": "python3"
  },
  "language_info": {
   "codemirror_mode": {
    "name": "ipython",
    "version": 3
   },
   "file_extension": ".py",
   "mimetype": "text/x-python",
   "name": "python",
   "nbconvert_exporter": "python",
   "pygments_lexer": "ipython3",
   "version": "3.9.8"
  }
 },
 "nbformat": 4,
 "nbformat_minor": 5
}
